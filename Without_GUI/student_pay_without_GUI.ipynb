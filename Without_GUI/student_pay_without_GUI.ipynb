{
  "nbformat": 4,
  "nbformat_minor": 0,
  "metadata": {
    "colab": {
      "name": "Dictionary_Assignment.ipynb",
      "provenance": [],
      "collapsed_sections": []
    },
    "kernelspec": {
      "name": "python3",
      "display_name": "Python 3"
    },
    "language_info": {
      "name": "python"
    }
  },
  "cells": [
    {
      "cell_type": "code",
      "source": [
        "import sys\n",
        "new_dict = {} # Global dictionary"
      ],
      "metadata": {
        "id": "VQBi20MjzLZg"
      },
      "execution_count": 80,
      "outputs": []
    },
    {
      "cell_type": "code",
      "source": [
        "def file_to_dict():\n",
        "  f = open(\"student_info.txt\")\n",
        "  for line in f: \n",
        "    (key, val1, val2, val3, val4, val5) = line.split() # Splitting each line of the file\n",
        "    new_dict[int(key)] = [val1, val2, val3, val4, val5] # Adding valules to dictionary\n"
      ],
      "metadata": {
        "id": "mSqY5_vk8HY-"
      },
      "execution_count": 81,
      "outputs": []
    },
    {
      "cell_type": "code",
      "source": [
        "def take_input():\n",
        "  email = input(\"Enter your email address: \")\n",
        "  password = input(\"Enter your password: \")\n",
        "\n",
        "  return email, password\n"
      ],
      "metadata": {
        "id": "N0FHUvgjBnW8"
      },
      "execution_count": 82,
      "outputs": []
    },
    {
      "cell_type": "code",
      "source": [
        "def authenticate(email, password):\n",
        "  c = 0\n",
        "  for key, value in new_dict.items():\n",
        "    if(value[2] == email and value[3] == password): # Matching email and password \n",
        "      id = key\n",
        "      print(\" ** YOU ARE LOGGED IN SUCCESSFULLY **\")\n",
        "      c = 1\n",
        "      break\n",
        "  if(c == 0):\n",
        "    print(\" ** INVALID E-MAIL OR PASSWORD **\")\n",
        "    sys.exit()\n",
        "    \n",
        "\n",
        "  return id"
      ],
      "metadata": {
        "id": "U48SU8mD_a2V"
      },
      "execution_count": 83,
      "outputs": []
    },
    {
      "cell_type": "code",
      "source": [
        "def details(new_dict, id):\n",
        "  for key, value in new_dict.items():\n",
        "    if(key == id):\n",
        "      fName = value[0]\n",
        "      lName = value[1]\n",
        "      email = value[2]\n",
        "      password = value[3]\n",
        "      due_amount = value[4]\n",
        "\n",
        "  print(\"\\n ## YOUR DETAILS: \")\n",
        "  print(\"   --> ID: \", id)\n",
        "  print(\"   --> First Name: \", fName)\n",
        "  print(\"   --> Last Name: \", lName)\n",
        "  print(\"   --> E-mail: \", email)\n",
        "  print(\"   --> Password: \", password)\n",
        "  print(\"   --> Tution fee (Due): \", due_amount)"
      ],
      "metadata": {
        "id": "u5CsKXaTDsD0"
      },
      "execution_count": 84,
      "outputs": []
    },
    {
      "cell_type": "code",
      "source": [
        "def payment(id):\n",
        "  amount = int(input(\"Enter the amount you want to pay: \"))\n",
        "  for key, value in new_dict.items():\n",
        "    if(key == id):\n",
        "      new_amount = int(value[4]) - amount\n",
        "      updated_dict = {key:[value[0], value[1], value[2], value[3], new_amount]} # Updating dictionary\n",
        "      new_dict.update(updated_dict)\n",
        "      print(\" \\n** Paid Successfully **\")\n",
        "      break "
      ],
      "metadata": {
        "id": "1DfXgl3CGiQ_"
      },
      "execution_count": 85,
      "outputs": []
    },
    {
      "cell_type": "code",
      "source": [
        "def menu(id):\n",
        "  print(\"\\n(1) DETAILS\")\n",
        "  print(\"(2) PAYMENT\")\n",
        "  print(\"(3) Exit\")\n",
        "  choice = int(input(\"Select option: \"))\n",
        "\n",
        "  if(choice == 1):\n",
        "    details(new_dict, id)\n",
        "  elif(choice == 2):\n",
        "    payment(id)\n",
        "  elif(choice == 3):\n",
        "    print(\"Thank you for visitng\")\n",
        "    sys.exit()\n",
        "  else:\n",
        "    print(\"Invalid input. Please try again\")\n",
        "    menu()\n"
      ],
      "metadata": {
        "id": "WEAbpJbLEpgf"
      },
      "execution_count": 86,
      "outputs": []
    },
    {
      "cell_type": "code",
      "source": [
        "d = {} # Empty dictionary\n",
        "\n",
        "file_to_dict()\n",
        "\n",
        "email, password = take_input()\n",
        "\n",
        "id = authenticate(email, password)\n",
        "\n",
        "while(1): # infinity loop\n",
        "  menu(id)\n",
        "\n",
        "\n",
        "\n",
        "\n",
        "\n",
        "\n"
      ],
      "metadata": {
        "colab": {
          "base_uri": "https://localhost:8080/"
        },
        "id": "96TdMHJz8TkJ",
        "outputId": "31b411eb-227a-436e-9ed0-47523d6f3403"
      },
      "execution_count": null,
      "outputs": [
        {
          "output_type": "stream",
          "name": "stdout",
          "text": [
            "Enter your email address: monica@gmail.com\n",
            "Enter your password: monica123\n",
            " ** YOU ARE LOGGED IN SUCCESSFULLY **\n",
            "\n",
            "(1) DETAILS\n",
            "(2) PAYMENT\n",
            "(3) Exit\n",
            "Select option: 1\n",
            "\n",
            " ## YOUR DETAILS: \n",
            "   --> ID:  20\n",
            "   --> First Name:  Monica\n",
            "   --> Last Name:  Belluchi\n",
            "   --> E-mail:  monica@gmail.com\n",
            "   --> Password:  monica123\n",
            "   --> Tution fee (Due):  40000\n",
            "\n",
            "(1) DETAILS\n",
            "(2) PAYMENT\n",
            "(3) Exit\n"
          ]
        }
      ]
    }
  ]
}